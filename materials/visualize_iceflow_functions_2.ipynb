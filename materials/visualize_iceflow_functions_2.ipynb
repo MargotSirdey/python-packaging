{
 "cells": [
  {
   "cell_type": "code",
   "execution_count": null,
   "id": "b209e164-e65b-4e58-9f5c-93f2744d8556",
   "metadata": {},
   "outputs": [],
   "source": [
    "import numpy as np\n",
    "import matplotlib.pyplot as plt\n",
    "import matplotlib as mpl"
   ]
  },
  {
   "cell_type": "code",
   "execution_count": null,
   "id": "990bffeb-e22a-4343-93f2-1912de75fb0f",
   "metadata": {},
   "outputs": [],
   "source": [
    "def av(A):\n",
    "    return 0.25 * (A[:-1, :-1] + A[:-1, 1:] + A[1:, :-1] + A[1:, 1:])\n",
    "\n",
    "def avx(A):\n",
    "    return 0.5 * (A[:-1, :] + A[1:, :])\n",
    "\n",
    "def avy(A):\n",
    "    return 0.5 * (A[:, :-1] + A[:, 1:])\n",
    "\n",
    "def compute_D(D, H, S, dSdx, dSdy, Snorm, a1, a2, dx, dy):\n",
    "    dSdx = np.diff(S, axis=0) / dx\n",
    "    dSdy = np.diff(S, axis=1) / dy\n",
    "    Snorm = np.sqrt(avy(dSdx)**2 + avx(dSdy)**2)\n",
    "    D[:] = ((a1 * av(H)**5) + (a2 * av(H)**3)) * Snorm**2"
   ]
  },
  {
   "cell_type": "code",
   "execution_count": null,
   "id": "431c1651-6d39-4ecb-9ed3-e330b5e8a928",
   "metadata": {},
   "outputs": [],
   "source": [
    "def solver(B, ELA, ρg, β, c, nx, ny, dx, dy):\n",
    "    # preprocess\n",
    "    a1 = 1.9e-24 * pow(ρg,3) * 31557600\n",
    "    a2 = 5.7e-20 * pow(ρg,3) * 31557600\n",
    "    \n",
    "    # initialize\n",
    "    S = np.zeros((nx, ny))\n",
    "    dSdx = np.zeros((nx-1, ny))\n",
    "    dSdy = np.zeros((nx, ny-1))\n",
    "    Snorm = np.zeros((nx-1, ny-1))\n",
    "    D = np.zeros((nx-1, ny-1))\n",
    "    qx = np.zeros((nx-1, ny-2))\n",
    "    qy = np.zeros((nx-2, ny-1))\n",
    "    H = np.zeros((nx, ny))\n",
    "    M = np.zeros((nx, ny))\n",
    "    H0 = np.zeros((nx, ny))\n",
    "    \n",
    "    # time loop\n",
    "    for it in range(int(nt)):\n",
    "        np.copyto(H0, H)\n",
    "        S = B + H\n",
    "        M = np.minimum(β * (S - ELA), c)\n",
    "        compute_D(D, H, S, dSdx, dSdy, Snorm, a1, a2, dx, dy)\n",
    "        qx[:] = avy(D) * np.diff(S[:, 1:-1], axis=0) / dx\n",
    "        qy[:] = avx(D) * np.diff(S[1:-1, :], axis=1) / dy\n",
    "        H[1:-1, 1:-1] = np.maximum(H[1:-1, 1:-1] + dt * (np.diff(qx, axis=0) + np.diff(qy, axis=1) + M[1:-1, 1:-1]), 0.0)\n",
    "        if it % nout == 0:\n",
    "            # error checking\n",
    "            err = np.max(np.abs(H - H0))\n",
    "            print(f\"it = {it}, err = {err:.3e}\")\n",
    "            if err < ϵ:\n",
    "                break\n",
    "    return S, H"
   ]
  },
  {
   "cell_type": "code",
   "execution_count": null,
   "id": "2656a822-75f6-422b-b0f7-bcb6170b8339",
   "metadata": {},
   "outputs": [],
   "source": [
    "def visualise(S, H):\n",
    "    # Visualize bedrock and ice elevation\n",
    "    S_v = np.copy(S)\n",
    "    S_v[H <= 0.01] = np.nan\n",
    "    fig = plt.figure(figsize=(20, 12))\n",
    "    axs = fig.add_subplot(121, projection='3d')\n",
    "    axs.set_xlabel(\"x [km]\")\n",
    "    axs.set_ylabel(\"y [km]\")\n",
    "    axs.set_zlabel(\"elevation [m]\")\n",
    "    xic, yic = np.meshgrid(xc, yc)\n",
    "    axs.set_box_aspect((4, 4, 1))\n",
    "    axs.view_init(azim=25)\n",
    "    p1 = axs.plot_surface(xic / 1e3, yic / 1e3, B, rstride=1, cstride=1, cmap='viridis', edgecolor='none')\n",
    "    p2 = axs.plot_surface(xic / 1e3, yic / 1e3, S_v, rstride=1, cstride=1, cmap='viridis', edgecolor='none')\n",
    "    norm = mpl.colors.Normalize(vmin=0, vmax=6000)\n",
    "    fig.colorbar(mpl.cm.ScalarMappable(norm=norm, cmap='viridis'),\n",
    "             ax=axs, orientation='vertical', label='H ice [m]', shrink=0.5)\n",
    "    plt.tight_layout()\n",
    "    plt.show()"
   ]
  },
  {
   "cell_type": "code",
   "execution_count": null,
   "id": "3fc4449c-503e-4fbf-a49c-43aee8e7ec17",
   "metadata": {},
   "outputs": [],
   "source": [
    "# Create data : generate the bedrock elevation `B` and the equilibrium line altitude `ELA` data for a given grid resolutions `nx, ny`.\n",
    "# physics\n",
    "lx = 250000\n",
    "ly = 200000  # domain size [m]\n",
    "B0 = 3500            # mean height [m]\n",
    "β = 0.01            # mass-balance slope (data)\n",
    "c = 2.0             # mass-balance limiter\n",
    "ρg = 910.0 * 9.81    # ice density x gravity\n",
    "dt = 0.1             # time step [yr]\n",
    "nx = 256\n",
    "ny = 256\n",
    "\n",
    "dx, dy = lx / nx, ly / ny\n",
    "\n",
    "# initial conditions (data)\n",
    "xc = np.arange(-lx / 2 + dx / 2, lx / 2 - dx / 2, dx)\n",
    "yc = np.arange(-ly / 2 + dy / 2, ly / 2 - dy / 2, dy)\n",
    "Xc, Yc = np.meshgrid(xc, yc)\n",
    "    \n",
    "\n",
    "ELA = 2150 + 900 * np.arctan(Yc / ly)\n",
    "B = B0 * np.exp(-Xc**2 / 1e10 - Yc**2 / 1e9) + B0 * np.exp(-Xc**2 / 1e9 - (Yc - ly / 8)**2 / 1e10)\n",
    "\n",
    "# numerics\n",
    "nt = 1e4              # number of time steps\n",
    "nout = 1e3            # visu and error checking interval\n",
    "ϵ = 1e-4             # steady state tolerance\n",
    "nx, ny = B.shape"
   ]
  },
  {
   "cell_type": "code",
   "execution_count": null,
   "id": "5ab37d23-4ec4-4a30-95c4-117469399fd7",
   "metadata": {},
   "outputs": [],
   "source": [
    "S, H = solver(B, ELA, ρg, β, c, nx, ny, dx, dy)"
   ]
  },
  {
   "cell_type": "code",
   "execution_count": null,
   "id": "a99d66c0-2d1b-4f04-b151-31a31179569e",
   "metadata": {},
   "outputs": [],
   "source": [
    "visualise(S,H)"
   ]
  }
 ],
 "metadata": {
  "kernelspec": {
   "display_name": "Python 3 (ipykernel)",
   "language": "python",
   "name": "python3"
  },
  "language_info": {
   "codemirror_mode": {
    "name": "ipython",
    "version": 3
   },
   "file_extension": ".py",
   "mimetype": "text/x-python",
   "name": "python",
   "nbconvert_exporter": "python",
   "pygments_lexer": "ipython3",
   "version": "3.9.6"
  }
 },
 "nbformat": 4,
 "nbformat_minor": 5
}
