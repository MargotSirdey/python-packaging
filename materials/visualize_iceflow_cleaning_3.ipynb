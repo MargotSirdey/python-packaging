{
 "cells": [
  {
   "cell_type": "markdown",
   "id": "648e6740",
   "metadata": {},
   "source": [
    "# Cleaning API"
   ]
  },
  {
   "cell_type": "markdown",
   "id": "15cb4474",
   "metadata": {},
   "source": [
    "We start from the code below"
   ]
  },
  {
   "cell_type": "code",
   "execution_count": 1,
   "id": "de753ff5",
   "metadata": {},
   "outputs": [],
   "source": [
    "def create_data(nx, ny):\n",
    "    # physics\n",
    "    lx = 250000\n",
    "    ly = 200000  # domain size [m]\n",
    "    B0 = 3500            # mean height [m]\n",
    "    β = 0.01            # mass-balance slope (data)\n",
    "    c = 2.0             # mass-balance limiter\n",
    "    \n",
    "    # numerics\n",
    "    dx, dy = lx / nx, ly / ny\n",
    "    \n",
    "    # initial conditions (data)\n",
    "    xc = np.arange(-lx / 2 + dx / 2, lx / 2 - dx / 2, dx)\n",
    "    yc = np.arange(-ly / 2 + dy / 2, ly / 2 - dy / 2, dy)\n",
    "    \n",
    "    Xc, Yc = np.meshgrid(xc, yc)\n",
    "    \n",
    "    B = B0 * np.exp(-Xc**2 / 1e10 - Yc**2 / 1e9) + B0 * np.exp(-Xc**2 / 1e9 - (Yc - ly / 8)**2 / 1e10)\n",
    "    ELA = 2150 + 900 * np.arctan(Yc / ly)\n",
    "    \n",
    "    return B, ELA, β, c, dx, dy, xc, yc\n"
   ]
  },
  {
   "cell_type": "markdown",
   "id": "407f7f4b",
   "metadata": {},
   "source": [
    "This code has several issues:\n",
    "- We should use better variables names\n",
    "- some constants are unecessary defined inside the method and use on the return\n",
    "- It should do only one thing"
   ]
  },
  {
   "cell_type": "markdown",
   "id": "583f438d",
   "metadata": {},
   "source": [
    "We can create a class to handle only the data from the grid"
   ]
  },
  {
   "cell_type": "code",
   "execution_count": 13,
   "id": "f0823053",
   "metadata": {},
   "outputs": [],
   "source": [
    "class DataG():\n",
    "    \n",
    "    def __init__(self, nx,lx, ny, ly):\n",
    "        self.lx = lx\n",
    "        self.ly = ly\n",
    "        self.dx = lx / nx\n",
    "        self.dy = ly / ny\n",
    "        self.xc = np.arange(-lx / 2 + dx / 2, lx / 2 - dx / 2, dx)\n",
    "        self.yc = np.arange(-ly / 2 + dy / 2, ly / 2 - dy / 2, dy)\n",
    "        self.Xc, self.Yc = np.meshgrid(self.xc, self.yc)"
   ]
  },
  {
   "cell_type": "code",
   "execution_count": 14,
   "id": "71844f4f",
   "metadata": {},
   "outputs": [],
   "source": [
    "def bedrock_elevation(data, mean_height):\n",
    "    \n",
    "    bedrock_el = mean_height * np.exp(-data.Xc**2 / 1e10 - data.Yc**2 / 1e9)\n",
    "    bedrock_el += mean_height * np.exp(-data.Xc**2 / 1e9 - (data.Yc - data.ly / 8)**2 / 1e10)\n",
    "    return bedrock_el"
   ]
  },
  {
   "cell_type": "code",
   "execution_count": 15,
   "id": "bd98d886",
   "metadata": {},
   "outputs": [],
   "source": [
    "def eq_line_altitude(data):\n",
    "    return 2150 + 900 * np.arctan(Yc / ly) "
   ]
  },
  {
   "cell_type": "code",
   "execution_count": 1,
   "id": "cc2f972e",
   "metadata": {},
   "outputs": [
    {
     "ename": "ModuleNotFoundError",
     "evalue": "No module named 'numpy'",
     "output_type": "error",
     "traceback": [
      "\u001b[0;31m---------------------------------------------------------------------------\u001b[0m",
      "\u001b[0;31mModuleNotFoundError\u001b[0m                       Traceback (most recent call last)",
      "Cell \u001b[0;32mIn[1], line 1\u001b[0m\n\u001b[0;32m----> 1\u001b[0m \u001b[38;5;28;01mimport\u001b[39;00m \u001b[38;5;21;01mnumpy\u001b[39;00m \u001b[38;5;28;01mas\u001b[39;00m \u001b[38;5;21;01mnp\u001b[39;00m\n\u001b[1;32m      2\u001b[0m data \u001b[38;5;241m=\u001b[39m DataG(\u001b[38;5;241m100\u001b[39m, \u001b[38;5;241m100\u001b[39m, \u001b[38;5;241m250000\u001b[39m, \u001b[38;5;241m250000\u001b[39m)\n",
      "\u001b[0;31mModuleNotFoundError\u001b[0m: No module named 'numpy'"
     ]
    }
   ],
   "source": [
    "import numpy as np\n",
    "data = DataG(100, 100, 250000, 250000)"
   ]
  },
  {
   "cell_type": "code",
   "execution_count": 18,
   "id": "33d10b55",
   "metadata": {},
   "outputs": [],
   "source": [
    "def iceflow_solver(m_balance_slope, m_balance_limiter, mean_height, data):\n",
    "    # physics\n",
    "    ρg = 910.0 * 9.81    # ice density x gravity\n",
    "    dt = 0.1             # time step [yr]\n",
    "    # numerics\n",
    "    B = bedrock_elevation(data, mean_height)\n",
    "    ELA = eq_line_altitude(data)\n",
    "    nx, ny = B.shape      # numerical grid resolution\n",
    "    nt = 1e4              # number of time steps\n",
    "    nout = 1e3            # visu and error checking interval\n",
    "    ϵ = 1e-4             # steady state tolerance\n",
    "    # preprocess\n",
    "    a1 = 1.9e-24 * pow(ρg,3) * 31557600\n",
    "    a2 = 5.7e-20 * pow(ρg,3) * 31557600\n",
    "    # initialise\n",
    "    S = np.zeros((nx, ny))#,np.float128)\n",
    "    dSdx = np.zeros((nx-1, ny))#,np.float128)\n",
    "    dSdy = np.zeros((nx, ny-1))#,np.float128)\n",
    "    Snorm = np.zeros((nx-1, ny-1))#,np.float128)\n",
    "    D = np.zeros((nx-1, ny-1))#,np.float128)\n",
    "    qx = np.zeros((nx-1, ny-2))#,np.float128)\n",
    "    qy = np.zeros((nx-2, ny-1))#,np.float128)\n",
    "    H = np.zeros((nx, ny))#,np.float128)\n",
    "    M = np.zeros((nx, ny))#,np.float128)\n",
    "    H0 = np.zeros((nx, ny))#,np.float128)\n",
    "    # time loop\n",
    "    for it in range(int(nt)):\n",
    "        np.copyto(H0, H)\n",
    "        S = B + H\n",
    "        M = np.minimum(β * (S - ELA), c)\n",
    "        compute_D(D, H, S, dSdx, dSdy, Snorm, a1, a2, data.dx, data.dy)\n",
    "        qx[:] = avy(D) * np.diff(S[:, 1:-1], axis=0) / dx\n",
    "        qy[:] = avx(D) * np.diff(S[1:-1, :], axis=1) / dy\n",
    "        H[1:-1, 1:-1] = np.maximum(H[1:-1, 1:-1] + dt * (np.diff(qx, axis=0) + np.diff(qy, axis=1) + M[1:-1, 1:-1]), 0.0)\n",
    "        if it % nout == 0:\n",
    "            # error checking\n",
    "            #print(H[2,3:10])\n",
    "            err = np.max(np.abs(H - H0))\n",
    "            print(f\"it = {it}, err = {err:.3e}\")\n",
    "            if err < ϵ:\n",
    "                break\n",
    "    return H, S "
   ]
  },
  {
   "cell_type": "code",
   "execution_count": null,
   "id": "40f0a3b0",
   "metadata": {},
   "outputs": [],
   "source": [
    "def visualise(H, S, data):\n",
    "    S_v = np.copy(S)\n",
    "    S_v[H <= 0.01] = np.nan\n",
    "    fig = plt.figure(figsize=(100, 45))\n",
    "    axs = fig.add_subplot(121, projection='3d')\n",
    "    axs.set_xlabel(\"x [km]\")\n",
    "    axs.set_ylabel(\"y [km]\")\n",
    "    axs.set_zlabel(\"elevation [m]\")\n",
    "    xic, yic = np.meshgrid(xc, yc)\n",
    "    axs.set_box_aspect((4, 4, 1))\n",
    "    axs.view_init(azim=25)\n",
    "    p1 = axs.plot_surface(xic / 1e3, yic / 1e3, B, rstride=1, cstride=1, cmap='viridis', edgecolor='none')\n",
    "    p2 = axs.plot_surface(xic / 1e3, yic / 1e3, S_v, rstride=1, cstride=1, cmap='viridis', edgecolor='none')\n",
    "    norm = mpl.colors.Normalize(vmin=0, vmax=6000)\n",
    "    fig.colorbar(mpl.cm.ScalarMappable(norm=norm, cmap='viridis'),\n",
    "             ax=axs, orientation='vertical', label='H ice [m]', shrink=0.5)\n",
    "\n",
    "    plt.tight_layout()\n",
    "    plt.show()"
   ]
  },
  {
   "cell_type": "markdown",
   "id": "f5d0a2c9",
   "metadata": {},
   "source": [
    "# Remarks"
   ]
  },
  {
   "cell_type": "markdown",
   "id": "2a872fd7",
   "metadata": {},
   "source": [
    "- There are methods that take a parameter and use it only on the return\n",
    "- Some methods are just auxiliar methods and should be private and not expose to users\n",
    "- Redudant naming: module called ice_solver and library call iceflow, it should be iceflow.solver\n",
    "- For me the library should expose two methods: solver and visualise\n",
    "- Unnecessary refactor of simple operation. Some methods are too simple\n",
    "- Numbers appear without doc, it is better to use CONSTANTS"
   ]
  },
  {
   "cell_type": "code",
   "execution_count": null,
   "id": "ce9e5bc1",
   "metadata": {},
   "outputs": [],
   "source": []
  }
 ],
 "metadata": {
  "kernelspec": {
   "display_name": "Python 3 (ipykernel)",
   "language": "python",
   "name": "python3"
  },
  "language_info": {
   "codemirror_mode": {
    "name": "ipython",
    "version": 3
   },
   "file_extension": ".py",
   "mimetype": "text/x-python",
   "name": "python",
   "nbconvert_exporter": "python",
   "pygments_lexer": "ipython3",
   "version": "3.10.12"
  }
 },
 "nbformat": 4,
 "nbformat_minor": 5
}
