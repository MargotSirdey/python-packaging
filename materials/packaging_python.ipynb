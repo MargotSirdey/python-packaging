{
 "cells": [
  {
   "cell_type": "markdown",
   "id": "4545e887",
   "metadata": {
    "slideshow": {
     "slide_type": "slide"
    },
    "tags": []
   },
   "source": [
    "#    Python packaging\n",
    "    \n",
    "    \n",
    "<center><img src=\"images/PyPI_logo.png\" width=\"300\" style=\"border:0\" \\n\\n></center>\n",
    "    \n",
    "<br> \n",
    "<br> \n",
    "\n",
    "<center> Margot Sirdey - University of Lausanne </center>"
   ]
  },
  {
   "cell_type": "markdown",
   "id": "81138e21-d45b-458a-a8c1-6bd06b3f4199",
   "metadata": {
    "slideshow": {
     "slide_type": "subslide"
    },
    "tags": []
   },
   "source": [
    "## Contents\n",
    "\n",
    "1. From Jupyter Notebooks to Python scripts\n",
    "\n",
    "2. From Python scripts to Python package\n",
    "    - Project folder structure\n",
    "    - Create a ```pyproject.toml``` file\n",
    "3. Share your package\n",
    "    - First on TestPyPI\n",
    "    - Add features to ```pyproject.toml``` file"
   ]
  },
  {
   "cell_type": "markdown",
   "id": "1e96a2f6",
   "metadata": {
    "slideshow": {
     "slide_type": "subslide"
    }
   },
   "source": [
    "## Prior to package your code\n",
    "\n",
    "1. Does it make sense to package your code?\n",
    "2. Is your code high quality enough?\n",
    "3. Should data be included or accessible out of the code?"
   ]
  },
  {
   "cell_type": "markdown",
   "id": "77c9710b",
   "metadata": {
    "slideshow": {
     "slide_type": "subslide"
    }
   },
   "source": [
    "### Prerequisites\n",
    "\n",
    "You must have:\n",
    "1. Python, pip and Twine installed on your laptop \n",
    "\n",
    "    ```\n",
    "    python -m pip install --upgrade twine\n",
    "    ```\n",
    "2. accounts on [PyPI](https://pypi.org/) and [testPyPI](https://test.pypi.org/)\n"
   ]
  },
  {
   "cell_type": "markdown",
   "id": "56aadc9f",
   "metadata": {
    "slideshow": {
     "slide_type": "subslide"
    }
   },
   "source": [
    "## From Jupyter notebooks to Python scripts\n",
    "\n",
    "1. What criticisms can you make on [this ice flow visualization code](visualize_iceflow_1.ipynb)?"
   ]
  },
  {
   "cell_type": "markdown",
   "id": "f9a1cdb2",
   "metadata": {
    "slideshow": {
     "slide_type": "subslide"
    }
   },
   "source": [
    "## From Jupyter notebooks to Python scripts\n",
    "\n",
    "1. What criticisms can you make on [this ice flow visualization code](visualize_iceflow_1.ipynb)?\n",
    "    - variables name,\n",
    "    - split into functions,\n",
    "    - functions name (PEP8),\n",
    "    - avoid the use of *\n",
    "    - all constants should be in capital\n",
    "    - avoid code not adapted to all OS (path example) \n",
    "    \n",
    "    &rarr; Code after improvement [here](visualize_iceflow_functions_2.ipynb)"
   ]
  },
  {
   "cell_type": "markdown",
   "id": "555f4f44",
   "metadata": {
    "slideshow": {
     "slide_type": "fragment"
    }
   },
   "source": [
    "2. Split into functions/classes\n",
    "\n",
    "    &rarr; Code after improvement [here](visualize_iceflow_cleaning_3.ipynb)"
   ]
  },
  {
   "cell_type": "markdown",
   "id": "c4e87a41",
   "metadata": {
    "slideshow": {
     "slide_type": "subslide"
    }
   },
   "source": [
    "## From Jupyter notebooks to Python scripts\n",
    "\n",
    "3. Create a Python script from jupyter notebook\n",
    "    - ```jupyter nbconvert```, &rarr; code [here](visualize_iceflow_4.py)\n",
    "<br>\n",
    "</br>    \n",
    "4. Clean Python script\n",
    "    - example with [Flake8](https://flake8.pycqa.org/en/latest/)\n",
    "<br>\n",
    "</br>\n",
    "5. Split into modules\n",
    "    - Make judicious choices: functions exclusively used in the package VS functions destinated to users."
   ]
  },
  {
   "cell_type": "markdown",
   "id": "f90fb8c5",
   "metadata": {
    "slideshow": {
     "slide_type": "subslide"
    }
   },
   "source": [
    "## From Python scripts to Python package\n",
    "\n",
    "Steps:\n",
    "- choose a **package name**, here: **iceflow**\n",
    "- create ```__init__.py```, ```pyproject.toml```, ```README.md``` and ```LICENSE``` files\n",
    "\n",
    "> ```solver.py``` and ```tools.py``` are **modules**\n",
    "\n",
    "#### Package folder structure\n",
    "\n",
    "- ```./pyproject.toml```\n",
    "- ```./LICENSE```\n",
    "\n",
    "- ```./src/iceflow/__init__.py```\n",
    "- ```./src/iceflow/solver.py``` \n",
    "- ```./src/iceflow/tools.py```\n",
    "        \n",
    "- ```./README.md```"
   ]
  },
  {
   "cell_type": "markdown",
   "id": "481f52ef",
   "metadata": {
    "slideshow": {
     "slide_type": "subslide"
    }
   },
   "source": [
    "### Use git versionning\n",
    "\n",
    "```\n",
    "git init -b master\n",
    "git add src/iceflow/__init__.py\n",
    "git add src/iceflow/tools.py\n",
    "git add src/iceflow/solver.py\n",
    "git add LICENSE\n",
    "git add README.md\n",
    "git add pyproject.toml\n",
    "```\n",
    "```\n",
    "git commit -m 'Python packaging workshop'\n",
    "```\n"
   ]
  },
  {
   "cell_type": "markdown",
   "id": "27b17fa9",
   "metadata": {
    "slideshow": {
     "slide_type": "subslide"
    }
   },
   "source": [
    "#### ```pyproject.toml```\n",
    "> **Build system and package metadata**\n",
    "\n",
    "```\n",
    "[build-system]\n",
    "requires = [\"setuptools >= 65\",\"wheel\"]\n",
    "build-backend = \"setuptools.build_meta\"\n",
    "\n",
    "[project]\n",
    "name = \"iceflow\"\n",
    "version = \"0.0.1\"\n",
    "dependencies = [\"numpy\",\"matplotlib\"]\n",
    "authors = [{ name=\"Pepito\", email=\"pepito@unil.ch\" }]\n",
    "description = \"Non-linear ice flow solver\"\n",
    "readme = \"README.md\"\n",
    "requires-python = \">=3.8\n",
    "\n",
    "```"
   ]
  },
  {
   "cell_type": "markdown",
   "id": "6acc392d",
   "metadata": {
    "slideshow": {
     "slide_type": "subslide"
    }
   },
   "source": [
    "#### ```__init__.py```\n",
    "```\n",
    "from .solver import solver, visualise\n",
    "```\n",
    "\n",
    "\n",
    "**Notes:**\n",
    "  - This file is run each time you use ```import```.\n",
    "  - Use ```__all__``` to determine which modules should be imported when ```*``` is invoked."
   ]
  },
  {
   "cell_type": "markdown",
   "id": "aa26226f",
   "metadata": {
    "slideshow": {
     "slide_type": "subslide"
    }
   },
   "source": [
    "### Install the package\n",
    "\n",
    "In the parent folder (*ie*  where ```pyproject.toml``` is):\n",
    "1. create a Python virtual environment ```python3 -m venv .venv``` and activate it ```source .venv/bin/activate```\n",
    "2. run ```pip list```\n",
    "3. run ```pip install -e .```\n",
    "    - ```-e``` editable mode, changes to source files will be taken into consideration\n",
    "    - ```.``` uses the package in the current directory\n",
    "    <br>\n",
    "    <br>\n",
    "    - a **wheel** is created: makes installation faster\n",
    "    <br>\n",
    "    <br>"
   ]
  },
  {
   "cell_type": "markdown",
   "id": "c3584617",
   "metadata": {
    "slideshow": {
     "slide_type": "subslide"
    }
   },
   "source": [
    "### Use argument parsing\n",
    "\n",
    "à compléter, idée: faire passer resol en argument 1. \"betement\", param param2 param3\n",
    "2. ou lire fichier sys.arg(1)\n",
    "3. argparse"
   ]
  },
  {
   "cell_type": "markdown",
   "id": "cfcd3cb0",
   "metadata": {
    "slideshow": {
     "slide_type": "slide"
    }
   },
   "source": [
    "## Publish your package on PyPI\n",
    "\n",
    "- [testPyPI](https://test.pypi.org/): for your first try\n",
    "- [PyPI](https://pypi.org/): definitive publishing\n",
    "\n",
    "<br>\n",
    "\n",
    "1. Build your package: ```build```\n",
    "2. Create a testPyPI Token and follow these [instructions](https://test.pypi.org/help/#apitoken)\n",
    "\n",
    "3. Upload your package on testPyPI\n",
    "```\n",
    "twine upload --repository testpypi dist/*\n",
    "```\n",
    "\n",
    "> **Note:** here you need to install ```build``` and ```Twine``` in your virtual environment ```pip install build twine```\n",
    "\n",
    "\n",
    "> The same process can be apply to PyPI"
   ]
  },
  {
   "cell_type": "markdown",
   "id": "9d654e35",
   "metadata": {
    "slideshow": {
     "slide_type": "subslide"
    }
   },
   "source": [
    "### Install your package from testPyPI\n",
    "\n",
    "Create a new Python virtual environment and install your package from testPyPI\n",
    "\n",
    "```\n",
    "python3 -m venv .venv_testpypi\n",
    "source .venv_testpypi/bin/activate\n",
    "pip install --index-url https://test.pypi.org/simple/ --extra-index-url https://pypi.org/simple/ iceflow\n",
    "```"
   ]
  },
  {
   "cell_type": "markdown",
   "id": "fa849eb1",
   "metadata": {
    "slideshow": {
     "slide_type": "subslide"
    }
   },
   "source": [
    "### Synchronize with Github\n",
    "\n",
    "#### Publish your package on Github\n",
    "\n",
    "1. Create a new repository with the name of your package on your Github account\n",
    "2. ```git add remote add origin <ssh address of the new repository>```\n",
    "3. Push code on remote server: ```git push -u origin master```"
   ]
  },
  {
   "cell_type": "markdown",
   "id": "25291c88",
   "metadata": {
    "slideshow": {
     "slide_type": "slide"
    }
   },
   "source": [
    "### Other options in ```pyproject.toml```\n",
    "#### Project script\n",
    "#### ```pyproject.toml```\n",
    "```\n",
    "[project.scripts]\n",
    "solver = \"iceflow:solver\"\n",
    "```\n",
    "\n",
    "> ```solver``` becomes an executable script"
   ]
  },
  {
   "cell_type": "markdown",
   "id": "9b576d8f",
   "metadata": {
    "slideshow": {
     "slide_type": "subslide"
    }
   },
   "source": [
    "#### Include data in your package\n",
    "\n",
    "#### ```pyproject.toml```\n",
    "\n",
    "```\n",
    "[tool.setuptools.package-data]\n",
    "iceflow = [\"*.json\"]\n",
    "```\n",
    "\n",
    "or\n",
    "\n",
    "```\n",
    "[tool.setuptools.package-data]\n",
    "\"*\" = [\"*.json\"]\n",
    "```"
   ]
  },
  {
   "cell_type": "markdown",
   "id": "1448fcf6",
   "metadata": {
    "slideshow": {
     "slide_type": "subslide"
    }
   },
   "source": [
    "### Users should find your package easily\n",
    "\n",
    "In ```pyproject.toml```, you can add some classifiers, see this [list](https://pypi.org/classifiers/),\n",
    "```\n",
    "[project]\n",
    "classifiers = [\"Programming Language :: Python :: 3\",\n",
    "    \"License :: OSI Approved :: MIT License\"]\n",
    "```\n",
    "\n",
    "or some keywords\n",
    "```\n",
    "[project]\n",
    "keywords = [\"non-linear solver\",\"ice\",\"model\",\"geosciences\"]\n",
    "```"
   ]
  },
  {
   "cell_type": "markdown",
   "id": "93cb059c",
   "metadata": {
    "slideshow": {
     "slide_type": "fragment"
    }
   },
   "source": [
    "## The end\n",
    "## Any questions ? "
   ]
  },
  {
   "cell_type": "markdown",
   "id": "41e066fe",
   "metadata": {
    "slideshow": {
     "slide_type": "skip"
    }
   },
   "source": [
    "### Optional dependencies\n",
    "\n",
    "Examples for users working on tests or on the documentation\n",
    "\n",
    "#### ```pyproject.toml```\n",
    "\n",
    "```\n",
    "[project.optional-dependencies]\n",
    "test = [\"pytest >= 5.0.0\"]\n",
    "doc = [\"sphinx\"]\n",
    "```"
   ]
  },
  {
   "cell_type": "markdown",
   "id": "2ac8c87f",
   "metadata": {
    "slideshow": {
     "slide_type": "skip"
    }
   },
   "source": [
    "#### Use Github actions\n",
    "\n",
    "à compléter"
   ]
  }
 ],
 "metadata": {
  "celltoolbar": "Slideshow",
  "kernelspec": {
   "display_name": "Python 3 (ipykernel)",
   "language": "python",
   "name": "python3"
  },
  "language_info": {
   "codemirror_mode": {
    "name": "ipython",
    "version": 3
   },
   "file_extension": ".py",
   "mimetype": "text/x-python",
   "name": "python",
   "nbconvert_exporter": "python",
   "pygments_lexer": "ipython3",
   "version": "3.10.12"
  }
 },
 "nbformat": 4,
 "nbformat_minor": 5
}
