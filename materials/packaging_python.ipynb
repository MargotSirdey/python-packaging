{
 "cells": [
  {
   "cell_type": "markdown",
   "id": "4545e887",
   "metadata": {
    "slideshow": {
     "slide_type": "slide"
    },
    "tags": []
   },
   "source": [
    "#    Python packaging\n",
    "    \n",
    "    \n",
    "<center><img src=\"images/PyPI_logo.png\" width=\"300\" style=\"border:0\" \\n\\n></center>\n",
    "    \n",
    "<br> \n",
    "<br> \n",
    "\n",
    "<center> Margot Sirdey - University of Lausanne </center>"
   ]
  },
  {
   "cell_type": "markdown",
   "id": "81138e21-d45b-458a-a8c1-6bd06b3f4199",
   "metadata": {
    "slideshow": {
     "slide_type": "subslide"
    },
    "tags": []
   },
   "source": [
    "## Contents\n",
    "\n",
    "1. From Jupyter Notebooks to Python scripts\n",
    "\n",
    "2. From Python scripts to Python package\n",
    "    - Project folder structure\n",
    "    - Create a ```pyproject.toml``` file\n",
    "3. Share your package\n",
    "    - First on TestPyPI\n",
    "    - Add features to ```pyproject.toml``` file"
   ]
  },
  {
   "cell_type": "markdown",
   "id": "77c9710b",
   "metadata": {
    "slideshow": {
     "slide_type": "subslide"
    }
   },
   "source": [
    "### Prerequisites\n",
    "\n",
    "You must have:\n",
    "1. Python, pip and Twine installed on your laptop \n",
    "\n",
    "    ```\n",
    "    python -m pip install --upgrade twine\n",
    "    ```\n",
    "2. accounts on [PyPI](https://pypi.org/) and [testPyPI](https://test.pypi.org/)\n"
   ]
  },
  {
   "cell_type": "markdown",
   "id": "56aadc9f",
   "metadata": {
    "slideshow": {
     "slide_type": "subslide"
    }
   },
   "source": [
    "## From Jupyter notebooks to Python scripts\n",
    "\n",
    "First step: split [the ice flow visualization code](../scripts/visualize_iceflow.ipynb) into functions\n",
    "\n",
    "    - Separate data from processing\n",
    "    - Identify functions\n",
    "    \n",
    "Second step: transform [the ice flow visualization functions](../scripts/visualize_iceflow_functions.ipynb) into Python scripts\n",
    "\n",
    "    - Create Pyton scripts judiciously (identify different themes)\n",
    "    - Import modules to run the main program"
   ]
  },
  {
   "cell_type": "markdown",
   "id": "0c54ab21",
   "metadata": {
    "slideshow": {
     "slide_type": "fragment"
    }
   },
   "source": [
    "Steps result in\n",
    "\n",
    "- [tools.py](../scripts/tools.py) script including helper functions\n",
    "- [solver.py](../scripts/solver.py) script processing data and running visualization"
   ]
  },
  {
   "cell_type": "markdown",
   "id": "f90fb8c5",
   "metadata": {
    "slideshow": {
     "slide_type": "subslide"
    }
   },
   "source": [
    "## From Python scripts to Python package\n",
    "\n",
    "Two types of Python packages: regular packages and namespace packages ([documentation here](https://docs.python.org/3/reference/import.html#regular-packages))\n",
    "\n",
    "### Package folder structure\n",
    "\n",
    "- ```./pyproject.toml```\n",
    "- ```./LICENSE```\n",
    "\n",
    "- ```./src/iceflow/__init__.py```\n",
    "- ```./src/iceflow/solver.py``` \n",
    "- ```./src/iceflow/tools.py```\n",
    "        \n",
    "- ```./README.md```"
   ]
  },
  {
   "cell_type": "markdown",
   "id": "fd162ab3",
   "metadata": {
    "slideshow": {
     "slide_type": "fragment"
    }
   },
   "source": [
    "Steps:\n",
    "- choose a **package name**, here: **iceflow**, and create this directory under ```src```\n",
    "- create ```__init__.py```, ```pyproject.toml```, ```README.md``` and ```LICENSE``` files\n",
    "\n",
    "> ```solver.py``` and ```tools.py``` are **modules**"
   ]
  },
  {
   "cell_type": "markdown",
   "id": "4109c325",
   "metadata": {
    "slideshow": {
     "slide_type": "skip"
    }
   },
   "source": [
    "#### ```README.md```\n",
    "\n",
    "> Installation, data information, how to run the code...\n",
    "\n",
    "#### ```LICENSE```\n",
    "> You must have a license for your package (PACCT UNIL)\n",
    "\n",
    "#### ```__init__.py```\n",
    "> it can be empty for now"
   ]
  },
  {
   "cell_type": "markdown",
   "id": "27b17fa9",
   "metadata": {
    "slideshow": {
     "slide_type": "subslide"
    }
   },
   "source": [
    "#### ```pyproject.toml```\n",
    "> **Build system and package metadata**\n",
    "\n",
    "```\n",
    "[build-system]\n",
    "requires = [\"setuptools >= 65\"]\n",
    "build-backend = \"setuptools.build_meta\"\n",
    "\n",
    "[project]\n",
    "name = \"iceflow\"\n",
    "version = \"0.0.1\"\n",
    "dependencies = [\"numpy\",\"matplotlib\"]\n",
    "authors = [{ name=\"Name\", email=\"author@unil.ch\" }]\n",
    "description = \"Non-linear ice flow solver\"\n",
    "readme = \"README.md\"\n",
    "requires-python = \">=3.8\"\n",
    "\n",
    "```"
   ]
  },
  {
   "cell_type": "markdown",
   "id": "aa26226f",
   "metadata": {
    "slideshow": {
     "slide_type": "subslide"
    }
   },
   "source": [
    "### Install your package\n",
    "\n",
    "In the parent folder (*ie*  where ```pyproject.toml``` is):\n",
    "1. create a Python virtual environment ```python3 -m venv .venv``` and activate it ```source .venv/bin/activate```\n",
    "2. run ```pip list```\n",
    "3. run ```pip install -e .```\n",
    "    - ```-e``` editable mode, changes to source files will be taken into consideration\n",
    "    - ```.``` uses the package in the current directory\n",
    "    <br>\n",
    "    <br>\n",
    "    - a **wheel** is created: makes installation faster\n",
    "    <br>\n",
    "    <br>\n",
    "\n",
    "4. run ```pip list```, what do see now?"
   ]
  },
  {
   "cell_type": "markdown",
   "id": "1c02e81d",
   "metadata": {
    "slideshow": {
     "slide_type": "subslide"
    }
   },
   "source": [
    "### Install your package\n",
    "\n",
    "Then try to **```import iceflow``` in Python shell**\n",
    "```\n",
    "python\n",
    "import iceflow\n",
    "```\n",
    "\n",
    "> Can you call any functions of ```tools``` or ```solver``` module?"
   ]
  },
  {
   "cell_type": "markdown",
   "id": "6acc392d",
   "metadata": {
    "slideshow": {
     "slide_type": "subslide"
    }
   },
   "source": [
    "#### ```__init__.py```\n",
    "\n",
    "This file is run each time you use ```import```.\n",
    "\n",
    "```\n",
    "import iceflow.solver\n",
    "\n",
    "__all__ = [\"solver\",\"tools\"]\n",
    "\n",
    "```\n",
    "\n",
    "> ```__all__```: **modules** that should be imported when ```*``` is invoked.\n",
    "\n",
    "> **Note:** thanks to *editable* mode, no need to re install the package"
   ]
  },
  {
   "cell_type": "markdown",
   "id": "cf7f33ed",
   "metadata": {
    "slideshow": {
     "slide_type": "subslide"
    }
   },
   "source": [
    "### Use package\n",
    "\n",
    "**Copy paste these lines in Python shell and fill them in:**\n",
    "\n",
    "```\n",
    "import iceflow\n",
    "\n",
    "resol=200\n",
    "\n",
    "<<<>>>.visualise(*<<<>>>.iceflow_solver(*<<<>>>.create_data(resol, resol)))\n",
    "\n",
    "```\n",
    "\n",
    "**and**\n",
    "\n",
    "```\n",
    "from iceflow import *\n",
    "\n",
    "resol=200\n",
    "\n",
    "<<<>>>.visualise(*<<<>>>.iceflow_solver(*<<<>>>.create_data(resol, resol)))\n",
    "\n",
    "```"
   ]
  },
  {
   "cell_type": "markdown",
   "id": "2030f1d3",
   "metadata": {
    "slideshow": {
     "slide_type": "subslide"
    }
   },
   "source": [
    "### Use  package\n",
    "\n",
    "**Try out these examples**\n",
    "\n",
    "```\n",
    "import iceflow\n",
    "\n",
    "resol=200\n",
    "\n",
    "tools.visualise(*solver.iceflow_solver(*tools.create_data(resol, resol)))\n",
    "\n",
    "```\n",
    "\n",
    "**and**\n",
    "\n",
    "```\n",
    "from iceflow import *\n",
    "\n",
    "resol=200\n",
    "\n",
    "iceflow.tools.visualise(*iceflow.solver.iceflow_solver(*iceflow.tools.create_data(resol, resol)))\n",
    "\n",
    "```"
   ]
  },
  {
   "cell_type": "markdown",
   "id": "a0255c1b",
   "metadata": {
    "slideshow": {
     "slide_type": "subslide"
    }
   },
   "source": [
    "### Use  package\n",
    "\n",
    "**These lines are correct:**\n",
    "\n",
    "```\n",
    "import iceflow\n",
    "\n",
    "resol=200\n",
    "\n",
    "iceflow.tools.visualise(*iceflow.solver.iceflow_solver(*iceflow.tools.create_data(resol, resol)))\n",
    "\n",
    "```\n",
    "\n",
    "**and**\n",
    "\n",
    "```\n",
    "from iceflow import *\n",
    "\n",
    "resol=200\n",
    "\n",
    "tools.visualise(*solver.iceflow_solver(*tools.create_data(resol, resol)))\n",
    "\n",
    "```"
   ]
  },
  {
   "cell_type": "markdown",
   "id": "c3584617",
   "metadata": {
    "slideshow": {
     "slide_type": "subslide"
    }
   },
   "source": [
    "### Use argument parsing\n",
    "\n",
    "à compléter, idée: faire passer resol en argument"
   ]
  },
  {
   "cell_type": "markdown",
   "id": "1448fcf6",
   "metadata": {
    "slideshow": {
     "slide_type": "subslide"
    }
   },
   "source": [
    "### Publish your package on PyPI\n",
    "\n",
    "##### Users should find your package easiliy\n",
    "\n",
    "In ```pyproject.toml```, you can add some classifiers, see this [list](https://pypi.org/classifiers/),\n",
    "```\n",
    "[project]\n",
    "classifiers = [\"Programming Language :: Python :: 3\",\n",
    "    \"License :: OSI Approved :: MIT License\"]\n",
    "```\n",
    "\n",
    "or some keywords\n",
    "```\n",
    "[project]\n",
    "keywords = [\"non-linear solver\",\"ice\",\"model\",\"geosciences\"]\n",
    "```"
   ]
  },
  {
   "cell_type": "markdown",
   "id": "cfcd3cb0",
   "metadata": {
    "slideshow": {
     "slide_type": "subslide"
    }
   },
   "source": [
    "### Publish your package on PyPI\n",
    "\n",
    "- [testPyPI](https://test.pypi.org/): for your first try\n",
    "- [PyPI](https://pypi.org/): definitive publishing\n",
    "\n",
    "<br>\n",
    "\n",
    "1. Build your package: ```build```\n",
    "2. Create a testPyPI Token and follow these [instructions](https://test.pypi.org/help/#apitoken)\n",
    "\n",
    "3. Upload your package on testPyPI\n",
    "```\n",
    "twine upload --repository testpypi dist/*\n",
    "```\n",
    "\n",
    "> **Note:** here you need to install ```build``` and ```Twine``` in your virtual environment ```pip install build twine```\n",
    "\n",
    "\n",
    "> The same process can be apply to PyPI"
   ]
  },
  {
   "cell_type": "markdown",
   "id": "9d654e35",
   "metadata": {
    "slideshow": {
     "slide_type": "subslide"
    }
   },
   "source": [
    "### Install your package from testPyPI\n",
    "\n",
    "Create a new Python virtual environment and install your package from testPyPI\n",
    "\n",
    "```\n",
    "python3 -m venv .venv_testpypi\n",
    "source .venv_testpypi/bin/activate\n",
    "pip install --index-url https://test.pypi.org/simple/ --extra-index-url https://pypi.org/simple/ iceflow\n",
    "```"
   ]
  },
  {
   "cell_type": "markdown",
   "id": "76a8eec2",
   "metadata": {
    "slideshow": {
     "slide_type": "slide"
    }
   },
   "source": [
    "## Automatic version control\n",
    "\n",
    "```pyproject.toml```\n",
    "\n",
    "\n",
    "```\n",
    "[build-system]\n",
    "requires = [\"setuptools >= 65\",\"setuptools_scm[toml]\"]\n",
    "build-backend = \"setuptools.build_meta\"\n",
    "\n",
    "[project]\n",
    "name = \"iceflow\"\n",
    "#version = \"0.0.1\"\n",
    "dependencies = [\"numpy\",\"matplotlib\"]\n",
    "authors = [{ name=\"Name\", email=\"author@unil.ch\" }]\n",
    "description = \"Non-linear ice flow solver\"\n",
    "readme = \"README.md\"\n",
    "requires-python = \">=3.8\"\n",
    "dynamic = [\"version\"]\n",
    "\n",
    "[tool.setuptools_scm]\n",
    "write_to = \"src/iceflow/_version.py\"\n",
    "\n",
    "```"
   ]
  },
  {
   "cell_type": "markdown",
   "id": "51bc90b1",
   "metadata": {
    "slideshow": {
     "slide_type": "fragment"
    }
   },
   "source": [
    "```__init__.py```\n",
    "\n",
    "```\n",
    "from importlib.metadata import version\n",
    "__version__ = version(\"iceflow\")\n",
    "```"
   ]
  },
  {
   "cell_type": "markdown",
   "id": "adf25faa",
   "metadata": {
    "slideshow": {
     "slide_type": "subslide"
    }
   },
   "source": [
    "### Use git versionning\n",
    "\n",
    "```\n",
    "git init -b master\n",
    "git add src/iceflow/__init__.py\n",
    "git add src/iceflow/tools.py\n",
    "git add src/iceflow/solver.py\n",
    "git add LICENSE\n",
    "git add README.md\n",
    "git add pyproject.toml\n",
    "```\n",
    "```\n",
    "git commit -m 'Python packaging workshop'\n",
    "```\n"
   ]
  },
  {
   "cell_type": "markdown",
   "id": "9b576d8f",
   "metadata": {
    "slideshow": {
     "slide_type": "slide"
    }
   },
   "source": [
    "## Other ```setuptools``` options\n",
    "\n",
    "### Include data in your package\n",
    "\n",
    "#### ```pyproject.toml```\n",
    "\n",
    "```\n",
    "[tool.setuptools.package-data]\n",
    "iceflow = [\"*.json\"]\n",
    "```\n",
    "\n",
    "or\n",
    "\n",
    "```\n",
    "[tool.setuptools.package-data]\n",
    "\"*\" = [\"*.json\"]\n",
    "```"
   ]
  },
  {
   "cell_type": "markdown",
   "id": "41e066fe",
   "metadata": {
    "slideshow": {
     "slide_type": "subslide"
    }
   },
   "source": [
    "### Optional dependencies\n",
    "\n",
    "Examples for users working on tests or on the documentation\n",
    "\n",
    "#### ```pyproject.toml```\n",
    "\n",
    "```\n",
    "[project.optional-dependencies]\n",
    "test = [\"pytest >= 5.0.0\"]\n",
    "doc = [\"sphinx\"]\n",
    "```"
   ]
  },
  {
   "cell_type": "markdown",
   "id": "89187ca0",
   "metadata": {
    "slideshow": {
     "slide_type": "subslide"
    }
   },
   "source": [
    "### Project scripts\n",
    "\n",
    "1. Create a function called ```hello_world``` and printing ```Hello World!``` in ```solver.py```\n",
    "2. Define it as a project script in ```pyproject.py```\n",
    "    ```\n",
    "    [project.scripts]\n",
    "    hello_world = \"iceflow_try.solver:hello_world\"\n",
    "\n",
    "    ```\n",
    "3. Run ```pip install -e .``` to install the package again\n",
    "4. Run ```hello_world```"
   ]
  },
  {
   "cell_type": "markdown",
   "id": "fa849eb1",
   "metadata": {
    "slideshow": {
     "slide_type": "subslide"
    }
   },
   "source": [
    "## Synchronize with Github\n",
    "\n",
    "#### Publish your package on Github\n",
    "\n",
    "1. Create a new repository with the name of your package on your Github account\n",
    "2. ```git add remote add origin <ssh address of the new repository>```\n",
    "3. Push code on remote server: ```git push -u origin master```\n",
    "\n",
    "#### Use Github actions\n",
    "\n",
    "à compléter"
   ]
  },
  {
   "cell_type": "markdown",
   "id": "ebcbc94e",
   "metadata": {
    "slideshow": {
     "slide_type": "slide"
    }
   },
   "source": [
    "## Prior to package your code\n",
    "\n",
    "1. Does it make sense to package your code?\n",
    "2. Is your code high quality enough?\n",
    "3. Should data be included or accessible out of the code?\n",
    "4. Have I enough materials to publish it on PyPI (README, LICENSE, examples...)?"
   ]
  },
  {
   "cell_type": "markdown",
   "id": "93cb059c",
   "metadata": {
    "slideshow": {
     "slide_type": "fragment"
    }
   },
   "source": [
    "## The end\n",
    "## Any questions ? "
   ]
  }
 ],
 "metadata": {
  "celltoolbar": "Slideshow",
  "kernelspec": {
   "display_name": "Python 3 (ipykernel)",
   "language": "python",
   "name": "python3"
  },
  "language_info": {
   "codemirror_mode": {
    "name": "ipython",
    "version": 3
   },
   "file_extension": ".py",
   "mimetype": "text/x-python",
   "name": "python",
   "nbconvert_exporter": "python",
   "pygments_lexer": "ipython3",
   "version": "3.10.12"
  }
 },
 "nbformat": 4,
 "nbformat_minor": 5
}
