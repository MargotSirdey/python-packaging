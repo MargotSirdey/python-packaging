{
 "cells": [
  {
   "cell_type": "markdown",
   "id": "6c4280e4",
   "metadata": {
    "slideshow": {
     "slide_type": "subslide"
    }
   },
   "source": [
    "<center><img src=\"images/dependency_hell.jpeg\" width=\"300\" style=\"border:0\"></center>\n",
    "\n",
    "```\n",
    "Dear DCSR team,\n",
    "\n",
    "I get an error in my Python code.\n",
    "The code that I am running is: /work/FAC/FGSE/INSTITUTE/pepito/project/code\n",
    "\n",
    "Could you help please?\n",
    "\n",
    "Best regards\n",
    "Pepito\n",
    "```"
   ]
  },
  {
   "cell_type": "markdown",
   "id": "93147d7f",
   "metadata": {
    "slideshow": {
     "slide_type": "subslide"
    }
   },
   "source": [
    "## Why do we want to create a package? "
   ]
  },
  {
   "cell_type": "markdown",
   "id": "7ad69c21",
   "metadata": {
    "slideshow": {
     "slide_type": "fragment"
    }
   },
   "source": [
    "- To reuse and share code\n",
    "- To ease the installation of code (automatic installation of dependencies)\n",
    "- To improve reproducibility\n",
    "- It forces to organize and document to your code"
   ]
  },
  {
   "cell_type": "markdown",
   "id": "846b0e5b-4a28-4e7b-a503-6395b65f6333",
   "metadata": {
    "slideshow": {
     "slide_type": "subslide"
    }
   },
   "source": [
    "<center><img src=\"images/IDEvsJupyter.svg\" width=\"900\"></center>"
   ]
  },
  {
   "cell_type": "markdown",
   "id": "4545e887",
   "metadata": {
    "slideshow": {
     "slide_type": "slide"
    },
    "tags": []
   },
   "source": [
    "#    Python packaging\n",
    "    \n",
    "    \n",
    "<center><img src=\"images/PyPI_logo.png\" width=\"300\" style=\"border:0\" \\n\\n></center>\n",
    "    \n",
    "<br> \n",
    "<br> \n",
    "\n",
    "<center> Cristian Ruiz and Margot Sirdey - University of Lausanne </center>"
   ]
  },
  {
   "cell_type": "markdown",
   "id": "81138e21-d45b-458a-a8c1-6bd06b3f4199",
   "metadata": {
    "slideshow": {
     "slide_type": "subslide"
    },
    "tags": []
   },
   "source": [
    "## Contents\n",
    "\n",
    "1. From Jupyter Notebooks to Python scripts\n",
    "\n",
    "2. From Python scripts to Python package\n",
    "    - Project folder structure\n",
    "    - Create a ```pyproject.toml``` file\n",
    "3. Share your package\n",
    "    - First on TestPyPI\n",
    "    - Add features to ```pyproject.toml``` file"
   ]
  },
  {
   "cell_type": "markdown",
   "id": "1e96a2f6",
   "metadata": {
    "slideshow": {
     "slide_type": "subslide"
    }
   },
   "source": [
    "## Before packaging your code\n",
    "\n",
    "Does it make sense to package your code?\n"
   ]
  },
  {
   "cell_type": "markdown",
   "id": "b3e67b12",
   "metadata": {
    "slideshow": {
     "slide_type": "fragment"
    }
   },
   "source": [
    "- Reusability: if you plan to use your code\n",
    "- Project complexity: make your code more manageable\n",
    "- Collaboration: working on a team on the same code\n",
    "- Distribution: make it avaialable"
   ]
  },
  {
   "cell_type": "markdown",
   "id": "56aadc9f",
   "metadata": {
    "slideshow": {
     "slide_type": "subslide"
    }
   },
   "source": [
    "## From Jupyter notebooks to Python scripts\n",
    "\n",
    "1. What criticisms can you make on [this ice flow visualization code](visualize_iceflow_1.ipynb)?"
   ]
  },
  {
   "cell_type": "markdown",
   "id": "f9a1cdb2",
   "metadata": {
    "slideshow": {
     "slide_type": "subslide"
    }
   },
   "source": [
    "## From Jupyter notebooks to Python scripts\n",
    "\n",
    "1) Let's start from this monolithic notebook [this ice flow visualization code](visualize_iceflow_1.ipynb)\n",
    "    \n",
    "   &rarr; Code after improvement [here](visualize_iceflow_functions_2.ipynb)"
   ]
  },
  {
   "cell_type": "markdown",
   "id": "555f4f44",
   "metadata": {
    "slideshow": {
     "slide_type": "fragment"
    }
   },
   "source": [
    "2. Split into functions/classes\n",
    "\n",
    "    &rarr; Code after improvement [here](visualize_iceflow_class_3.ipynb)"
   ]
  },
  {
   "cell_type": "markdown",
   "id": "c4e87a41",
   "metadata": {
    "slideshow": {
     "slide_type": "subslide"
    }
   },
   "source": [
    "## From Jupyter notebooks to Python scripts\n",
    "\n",
    "3. Create a Python script from jupyter notebook\n",
    "    - ```jupyter nbconvert```, &rarr; code [here](visualize_iceflow_class_3.py)\n",
    "<br>\n",
    "</br>    \n",
    "4. Clean Python script\n",
    "    - example with [Flake8](https://flake8.pycqa.org/en/latest/)\n",
    "    - code [here](final_script.py)\n",
    "<br>\n",
    "</br>\n",
    "5. Split into modules\n",
    "    - Make judicious choices: functions exclusively used in the package VS functions destinated to users."
   ]
  },
  {
   "cell_type": "markdown",
   "id": "f90fb8c5",
   "metadata": {
    "slideshow": {
     "slide_type": "subslide"
    }
   },
   "source": [
    "## From Python scripts to Python package\n",
    "\n",
    "Steps:\n",
    "- choose a **package name**, here: **iceflow** [pep8](https://peps.python.org/pep-0008/#descriptive-naming-styles)\n",
    "- create ```__init__.py```, ```pyproject.toml```, ```README.md``` and ```LICENSE``` files\n",
    "\n",
    "> ```solver.py``` and ```tools.py``` are **modules**\n",
    "\n",
    "#### Package folder structure\n",
    "\n",
    "- ```./pyproject.toml```\n",
    "- ```./LICENSE```\n",
    "\n",
    "- ```./src/iceflow/__init__.py```\n",
    "- ```./src/iceflow/solver.py``` \n",
    "- ```./src/iceflow/tools.py```\n",
    "        \n",
    "- ```./README.md```"
   ]
  },
  {
   "cell_type": "markdown",
   "id": "6acc392d",
   "metadata": {
    "slideshow": {
     "slide_type": "subslide"
    }
   },
   "source": [
    "#### ```__init__.py```\n",
    "```python\n",
    "from .solver import solver, visualise\n",
    "```\n",
    "\n",
    "\n",
    "**Notes:**\n",
    "  - This file is run each time you use ```import```.\n",
    "  - You can use it to handle versions\n",
    "  - Use ```__all__``` to determine which modules should be imported when ```*``` is invoked."
   ]
  },
  {
   "cell_type": "markdown",
   "id": "27b17fa9",
   "metadata": {
    "slideshow": {
     "slide_type": "subslide"
    }
   },
   "source": [
    "#### ```pyproject.toml```\n",
    "> **Build system and package metadata**\n",
    "\n",
    "```\n",
    "[build-system]\n",
    "requires = [\"setuptools >= 65\",\"wheel\"]\n",
    "build-backend = \"setuptools.build_meta\"\n",
    "\n",
    "[project]\n",
    "name = \"iceflow\"\n",
    "version = \"0.0.1\"\n",
    "dependencies = [\"numpy\",\"matplotlib\"]\n",
    "authors = [{ name=\"Pepito\", email=\"pepito@unil.ch\" }]\n",
    "description = \"Non-linear ice flow solver\"\n",
    "readme = \"README.md\"\n",
    "requires-python = \">=3.8\"\n",
    "\n",
    "```"
   ]
  },
  {
   "cell_type": "markdown",
   "id": "481f52ef",
   "metadata": {
    "slideshow": {
     "slide_type": "subslide"
    }
   },
   "source": [
    "### Use git versionning\n",
    "\n",
    "```\n",
    "git init -b master\n",
    "git add src/iceflow/__init__.py\n",
    "git add src/iceflow/tools.py\n",
    "git add src/iceflow/solver.py\n",
    "git add LICENSE\n",
    "git add README.md\n",
    "git add pyproject.toml\n",
    "```\n",
    "```\n",
    "git commit -m 'Python packaging workshop'\n",
    "```\n",
    "\n",
    "probably create a [.gitignore](https://github.com/github/gitignore/blob/main/Python.gitignore)"
   ]
  },
  {
   "cell_type": "markdown",
   "id": "fa849eb1",
   "metadata": {
    "slideshow": {
     "slide_type": "subslide"
    }
   },
   "source": [
    "### Synchronize with Github\n",
    "\n",
    "#### Publish your package on Github\n",
    "\n",
    "1. Create a new repository with the name of your package on your Github account\n",
    "2. ```git add remote add origin <ssh address of the new repository>```\n",
    "3. Push code on remote server: ```git push -u origin master```"
   ]
  },
  {
   "cell_type": "markdown",
   "id": "aa26226f",
   "metadata": {
    "slideshow": {
     "slide_type": "subslide"
    }
   },
   "source": [
    "### How to test your package\n",
    "\n",
    "In the parent folder (*ie*  where ```pyproject.toml``` is):\n",
    "1. create a Python virtual environment ```python3 -m venv .venv``` and activate it ```source .venv/bin/activate```\n",
    "2. run ```pip list```\n",
    "3. run ```pip install -e .```\n",
    "    - ```-e``` editable mode, changes to source files will be taken into consideration\n",
    "    - ```.``` uses the package in the current directory"
   ]
  },
  {
   "cell_type": "markdown",
   "id": "1d9bfefa",
   "metadata": {
    "slideshow": {
     "slide_type": "slide"
    }
   },
   "source": [
    "# Publish your package on PyPI"
   ]
  },
  {
   "cell_type": "markdown",
   "id": "77c9710b",
   "metadata": {
    "slideshow": {
     "slide_type": "subslide"
    }
   },
   "source": [
    "### Prerequisites\n",
    "\n",
    "You must have:\n",
    "1. Python, pip and Twine installed on your laptop \n",
    "\n",
    "    ```\n",
    "    python -m pip install --upgrade twine\n",
    "    ```\n",
    "2. accounts on [PyPI](https://pypi.org/) and [testPyPI](https://test.pypi.org/)\n"
   ]
  },
  {
   "cell_type": "markdown",
   "id": "cfcd3cb0",
   "metadata": {
    "slideshow": {
     "slide_type": "subslide"
    }
   },
   "source": [
    "\n",
    "\n",
    "- [testPyPI](https://test.pypi.org/): first try\n",
    "- [PyPI](https://pypi.org/): definitive publishing\n",
    "\n",
    "<br>\n",
    "\n",
    "1. Build your package: ```python -m build```,\n",
    "    - a **wheel** is created: makes installation faster\n",
    "\n",
    "<br>\n",
    "\n",
    "2. Create a testPyPI Token and follow these [instructions](https://test.pypi.org/help/#apitoken)\n",
    "\n",
    "3. Upload your package on testPyPI\n",
    "```\n",
    "twine upload --repository testpypi dist/*\n",
    "```\n",
    "\n",
    "**Notes:**\n",
    "- install ```build``` and ```twine``` in your virtual environment: ```pip install build twine```\n",
    "- PyPI follows the same process"
   ]
  },
  {
   "cell_type": "markdown",
   "id": "9d654e35",
   "metadata": {
    "slideshow": {
     "slide_type": "subslide"
    }
   },
   "source": [
    "### Install your package from testPyPI\n",
    "\n",
    "Create a new Python virtual environment and install your package from testPyPI\n",
    "\n",
    "```\n",
    "python3 -m venv .venv_testpypi\n",
    "source .venv_testpypi/bin/activate\n",
    "pip install --extra-index-url https://test.pypi.org/simple/ iceflow\n",
    "```"
   ]
  },
  {
   "cell_type": "markdown",
   "id": "25291c88",
   "metadata": {
    "slideshow": {
     "slide_type": "slide"
    }
   },
   "source": [
    "### Other options in ```pyproject.toml```\n",
    "### Project script\n",
    "#### ```pyproject.toml```\n",
    "```\n",
    "[project.scripts]\n",
    "default_example = \"iceflow:default_example\"\n",
    "```\n",
    "\n",
    "#### ```__init__.py```\n",
    "```\n",
    "from .solver import solver, visualise, default_example\n",
    "```\n",
    "\n",
    "> ```default_example``` becomes an executable script\n",
    "\n"
   ]
  },
  {
   "cell_type": "markdown",
   "id": "9b576d8f",
   "metadata": {
    "slideshow": {
     "slide_type": "subslide"
    }
   },
   "source": [
    "### Include data in your package\n",
    "\n",
    "#### ```pyproject.toml```\n",
    "\n",
    "##### To add one specific file\n",
    "```\n",
    "[tool.setuptools]\n",
    "include-package-data = false\n",
    "\n",
    "[tool.setuptools.package-data]\n",
    "iceflow = [\"physics.json\"]\n",
    "```\n",
    "\n",
    "> By default ```include-package-data``` is set to true, &rarr; all files are included"
   ]
  },
  {
   "cell_type": "markdown",
   "id": "cb31413e",
   "metadata": {
    "slideshow": {
     "slide_type": "subslide"
    }
   },
   "source": [
    "### Include data in your package\n",
    "\n",
    "#### Default example in ```solver.py```\n",
    "```python\n",
    "with open(tools.give_path(\"physics.json\")) as f:\n",
    "        config = json.load(f)\n",
    "\n",
    "physics = tools.Physics(\n",
    "    config[\"mean_height\"],\n",
    "    config[\"m_balance_slope\"],\n",
    "    config[\"m_balance\"],\n",
    "    config[\"ice_density\"],\n",
    "    data\n",
    ")\n",
    "```\n",
    "#### ```tools.py```\n",
    "```python\n",
    "def give_path(file):\n",
    "    return os.path.join(os.path.dirname(__file__),file)\n",
    "```"
   ]
  },
  {
   "cell_type": "markdown",
   "id": "1448fcf6",
   "metadata": {
    "slideshow": {
     "slide_type": "subslide"
    }
   },
   "source": [
    "### Users should find your package easily\n",
    "\n",
    "In ```pyproject.toml```, you can add some classifiers, see this [list](https://pypi.org/classifiers/),\n",
    "```\n",
    "[project]\n",
    "classifiers = [\"Programming Language :: Python :: 3\",\n",
    "    \"License :: OSI Approved :: MIT License\",\n",
    "    \"Topic :: Scientific/Engineering :: Physics\"]\n",
    "```\n",
    "\n",
    "or some keywords\n",
    "```\n",
    "[project]\n",
    "keywords = [\"non-linear solver\",\"ice\",\"model\",\"geosciences\"]\n",
    "```"
   ]
  },
  {
   "cell_type": "markdown",
   "id": "93cb059c",
   "metadata": {
    "slideshow": {
     "slide_type": "fragment"
    }
   },
   "source": [
    "## The end\n",
    "## Any questions ? "
   ]
  }
 ],
 "metadata": {
  "celltoolbar": "Slideshow",
  "kernelspec": {
   "display_name": "Python 3 (ipykernel)",
   "language": "python",
   "name": "python3"
  },
  "language_info": {
   "codemirror_mode": {
    "name": "ipython",
    "version": 3
   },
   "file_extension": ".py",
   "mimetype": "text/x-python",
   "name": "python",
   "nbconvert_exporter": "python",
   "pygments_lexer": "ipython3",
   "version": "3.10.12"
  }
 },
 "nbformat": 4,
 "nbformat_minor": 5
}
