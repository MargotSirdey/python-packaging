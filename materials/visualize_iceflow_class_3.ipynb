{
 "cells": [
  {
   "cell_type": "code",
   "execution_count": 2,
   "id": "b209e164-e65b-4e58-9f5c-93f2744d8556",
   "metadata": {
    "scrolled": true
   },
   "outputs": [],
   "source": [
    "import numpy as np\n",
    "import matplotlib.pyplot as plt\n",
    "import matplotlib as mpl"
   ]
  },
  {
   "cell_type": "code",
   "execution_count": 3,
   "id": "990bffeb-e22a-4343-93f2-1912de75fb0f",
   "metadata": {
    "scrolled": true
   },
   "outputs": [],
   "source": [
    "def av(A):\n",
    "    return 0.25 * (A[:-1, :-1] + A[:-1, 1:] + A[1:, :-1] + A[1:, 1:])\n",
    "\n",
    "def avx(A):\n",
    "    return 0.5 * (A[:-1, :] + A[1:, :])\n",
    "\n",
    "def avy(A):\n",
    "    return 0.5 * (A[:, :-1] + A[:, 1:])\n",
    "\n",
    "def compute_D(D, H, S, dSdx, dSdy, Snorm, a1, a2, dx, dy):\n",
    "    dSdx = np.diff(S, axis=0) / dx\n",
    "    dSdy = np.diff(S, axis=1) / dy\n",
    "    Snorm = np.sqrt(avy(dSdx)**2 + avx(dSdy)**2)\n",
    "    D[:] = ((a1 * av(H)**5) + (a2 * av(H)**3)) * Snorm**2"
   ]
  },
  {
   "cell_type": "code",
   "execution_count": 4,
   "id": "431c1651-6d39-4ecb-9ed3-e330b5e8a928",
   "metadata": {
    "scrolled": true
   },
   "outputs": [],
   "source": [
    "def solver(nx, ny, nt, nout, ϵ, dt, physics, data):\n",
    "    # preprocess\n",
    "    a1 = 1.9e-24 * pow(physics.ρg,3) * 31557600\n",
    "    a2 = 5.7e-20 * pow(physics.ρg,3) * 31557600\n",
    "    \n",
    "    # initialize\n",
    "    S = np.zeros((nx, ny))\n",
    "    dSdx = np.zeros((nx-1, ny))\n",
    "    dSdy = np.zeros((nx, ny-1))\n",
    "    Snorm = np.zeros((nx-1, ny-1))\n",
    "    D = np.zeros((nx-1, ny-1))\n",
    "    qx = np.zeros((nx-1, ny-2))\n",
    "    qy = np.zeros((nx-2, ny-1))\n",
    "    H = np.zeros((nx, ny))\n",
    "    M = np.zeros((nx, ny))\n",
    "    H0 = np.zeros((nx, ny))\n",
    "    \n",
    "    # time loop\n",
    "    for it in range(int(nt)):\n",
    "        np.copyto(H0, H)\n",
    "        S = physics.B + H\n",
    "        M = np.minimum(physics.m_balance_slope * (S - physics.ELA), physics.m_balance)\n",
    "        compute_D(D, H, S, dSdx, dSdy, Snorm, a1, a2, data.dx, data.dy)\n",
    "        qx[:] = avy(D) * np.diff(S[:, 1:-1], axis=0) / data.dx\n",
    "        qy[:] = avx(D) * np.diff(S[1:-1, :], axis=1) / data.dy\n",
    "        H[1:-1, 1:-1] = np.maximum(H[1:-1, 1:-1] + dt * (np.diff(qx, axis=0) + np.diff(qy, axis=1) + M[1:-1, 1:-1]), 0.0)\n",
    "        if it % nout == 0:\n",
    "            # error checking\n",
    "            err = np.max(np.abs(H - H0))\n",
    "            print(f\"it = {it}, err = {err:.3e}\")\n",
    "            if err < ϵ:\n",
    "                break\n",
    "    return S, H"
   ]
  },
  {
   "cell_type": "code",
   "execution_count": 5,
   "id": "2656a822-75f6-422b-b0f7-bcb6170b8339",
   "metadata": {
    "scrolled": true
   },
   "outputs": [],
   "source": [
    "def visualise(data, S, H, B):\n",
    "    # Visualize bedrock and ice elevation\n",
    "    S_v = np.copy(S)\n",
    "    S_v[H <= 0.01] = np.nan\n",
    "    fig = plt.figure(figsize=(20, 12))\n",
    "    axs = fig.add_subplot(121, projection='3d')\n",
    "    axs.set_xlabel(\"x [km]\")\n",
    "    axs.set_ylabel(\"y [km]\")\n",
    "    axs.set_zlabel(\"elevation [m]\")\n",
    "    xic, yic = np.meshgrid(data.xc, data.yc)\n",
    "    axs.set_box_aspect((4, 4, 1))\n",
    "    axs.view_init(azim=25)\n",
    "    p1 = axs.plot_surface(xic / 1e3, yic / 1e3, B, rstride=1, cstride=1, cmap='viridis', edgecolor='none')\n",
    "    p2 = axs.plot_surface(xic / 1e3, yic / 1e3, S_v, rstride=1, cstride=1, cmap='viridis', edgecolor='none')\n",
    "    norm = mpl.colors.Normalize(vmin=0, vmax=6000)\n",
    "    fig.colorbar(mpl.cm.ScalarMappable(norm=norm, cmap='viridis'),\n",
    "             ax=axs, orientation='vertical', label='H ice [m]', shrink=0.5)\n",
    "    plt.tight_layout()\n",
    "    plt.show()"
   ]
  },
  {
   "cell_type": "code",
   "execution_count": 6,
   "id": "3fc4449c-503e-4fbf-a49c-43aee8e7ec17",
   "metadata": {
    "scrolled": true
   },
   "outputs": [],
   "source": [
    "# Create data : generate the bedrock elevation `B` and the equilibrium line altitude `ELA` data for a given grid resolutions `nx, ny`.\n",
    "# physics\n",
    "def bedrock_elevation(data, mean_height):\n",
    "    B = mean_height * np.exp(-data.Xc**2 / 1e10 - data.Yc**2 / 1e9)\n",
    "    B += mean_height * np.exp(-data.Xc**2 / 1e9 -\n",
    "                              (data.Yc - data.ly / 8)**2 / 1e10)\n",
    "    return B\n",
    "\n",
    "\n",
    "def equilibrium_line_altitude(data):\n",
    "    ELA = 2150 + 900 * np.arctan(data.Yc / data.ly)\n",
    "    return ELA\n",
    "\n",
    "\n",
    "class Data:\n",
    "    def __init__(self, resolx, domainsizex, resoly, domainsizey):\n",
    "        self.lx = domainsizex\n",
    "        self.ly = domainsizey\n",
    "        self.dx = domainsizex / resolx\n",
    "        self.dy = domainsizey / resoly\n",
    "        self.xc = np.arange(-domainsizex / 2 + self.dx / 2,\n",
    "                            domainsizex / 2 - self.dx / 2, self.dx)\n",
    "        self.yc = np.arange(-domainsizey / 2 + self.dy / 2,\n",
    "                            domainsizey / 2 - self.dy / 2, self.dy)\n",
    "        self.Xc, self.Yc = np.meshgrid(self.xc, self.yc)\n",
    "\n",
    "class Physics:\n",
    "    def __init__(self, m_h, m_b_slope, m_b, ρg, data):\n",
    "        self.mean_height = m_h\n",
    "        self.m_balance_slope = m_b_slope\n",
    "        self.m_balance = m_b\n",
    "        self.ρg = ρg\n",
    "        self.B = bedrock_elevation(data, self.mean_height)\n",
    "        self.ELA = equilibrium_line_altitude(data)"
   ]
  },
  {
   "cell_type": "code",
   "execution_count": 8,
   "id": "5ab37d23-4ec4-4a30-95c4-117469399fd7",
   "metadata": {
    "scrolled": true
   },
   "outputs": [
    {
     "name": "stdout",
     "output_type": "stream",
     "text": [
      "it = 0, err = 2.000e-01\n",
      "it = 1000, err = 1.372e-01\n",
      "it = 2000, err = 9.534e-03\n",
      "it = 3000, err = 1.775e-03\n",
      "it = 4000, err = 6.787e-05\n"
     ]
    }
   ],
   "source": [
    "domainsizex = 250000\n",
    "domainsizey = 200000  # domain size [m]\n",
    "resol = 256\n",
    "data = Data(resol, domainsizex, resol, domainsizey)\n",
    "m_h = 3500\n",
    "m_b_slope = 0.01\n",
    "m_b = 2.0\n",
    "ρg = 910.0 * 9.81\n",
    "physics = Physics(m_h, m_b_slope, m_b, ρg, data)\n",
    "\n",
    "# numerics\n",
    "nx, ny = physics.B.shape      # numerical grid resolution\n",
    "nt = 1e4              # number of time steps\n",
    "nout = 1e3            # visu and error checking interval\n",
    "ϵ = 1e-4             # steady state tolerance\n",
    "dt = 0.1             # time step [yr]\n",
    "\n",
    "S, H = solver(nx, ny, nt, nout, ϵ, dt, physics, data)"
   ]
  },
  {
   "cell_type": "code",
   "execution_count": null,
   "id": "a99d66c0-2d1b-4f04-b151-31a31179569e",
   "metadata": {
    "scrolled": true
   },
   "outputs": [],
   "source": [
    "visualise(data, S, H, physics.B)"
   ]
  }
 ],
 "metadata": {
  "kernelspec": {
   "display_name": "Python 3 (ipykernel)",
   "language": "python",
   "name": "python3"
  },
  "language_info": {
   "codemirror_mode": {
    "name": "ipython",
    "version": 3
   },
   "file_extension": ".py",
   "mimetype": "text/x-python",
   "name": "python",
   "nbconvert_exporter": "python",
   "pygments_lexer": "ipython3",
   "version": "3.10.12"
  }
 },
 "nbformat": 4,
 "nbformat_minor": 5
}
